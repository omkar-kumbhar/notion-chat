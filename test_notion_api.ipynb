{
 "cells": [
  {
   "cell_type": "code",
   "execution_count": null,
   "id": "bed47fd9",
   "metadata": {},
   "outputs": [],
   "source": [
    "import os\n",
    "import json\n",
    "import requests"
   ]
  },
  {
   "cell_type": "code",
   "execution_count": null,
   "id": "998bca9d",
   "metadata": {},
   "outputs": [],
   "source": [
    "from os.path import join, dirname\n",
    "from dotenv import load_dotenv\n",
    "\n",
    "# current path should contain .env with \n",
    "dotenv_path = join(dirname('.'), '.env')\n",
    "load_dotenv(dotenv_path)\n"
   ]
  },
  {
   "cell_type": "code",
   "execution_count": null,
   "id": "af527cf3",
   "metadata": {},
   "outputs": [],
   "source": [
    "# NOTION_KEY='secret_HEcPLDZ3LKsRbt0BWivExErAcIysyQx8bxA4Z2DHtsH'\n",
    "\n",
    "NOTION_KEY = os.getenv('NOTION_KEY')\n",
    "NOTION_PAGE_ID = os.getenv('NOTION_PAGE_ID')"
   ]
  },
  {
   "cell_type": "code",
   "execution_count": null,
   "id": "9d615494",
   "metadata": {},
   "outputs": [],
   "source": [
    "headers = {\n",
    "    \"Authorization\": \"Bearer \" + NOTION_KEY,\n",
    "    \"Content-Type\": \"application/json\",\n",
    "    \"Notion-Version\": \"2022-06-28\",\n",
    "}"
   ]
  },
  {
   "cell_type": "code",
   "execution_count": null,
   "id": "53c87df0",
   "metadata": {},
   "outputs": [],
   "source": [
    "# def create_page(data: dict):\n",
    "#     create_url = \"https://api.notion.com/v1/pages\"\n",
    "\n",
    "#     payload = {\"parent\": {\"database_id\": DATABASE_ID}, \"properties\": data}\n",
    "\n",
    "#     res = requests.post(create_url, headers=headers, json=payload)\n",
    "#     # print(res.status_code)\n",
    "#     return res"
   ]
  },
  {
   "cell_type": "code",
   "execution_count": null,
   "id": "12699966",
   "metadata": {},
   "outputs": [],
   "source": [
    "search_params = {\"filter\": {\"value\": \"page\", \"property\": \"object\"}}\n",
    "search_response = requests.post(\n",
    "    f'https://api.notion.com/v1/search', \n",
    "    json=search_params, headers=headers)\n",
    "\n",
    "(search_response.json())\n"
   ]
  },
  {
   "cell_type": "code",
   "execution_count": null,
   "id": "64d1b482",
   "metadata": {},
   "outputs": [],
   "source": [
    "print(json.dumps(search_response.json(),indent=2))"
   ]
  },
  {
   "cell_type": "code",
   "execution_count": null,
   "id": "71518de4",
   "metadata": {},
   "outputs": [],
   "source": [
    "search_params = {\"filter\": {\"value\": \"page\", \"property\": \"object\"}}\n",
    "search_response = requests.post(\n",
    "    f'https://api.notion.com/v1/search', \n",
    "    json=search_params, headers=headers)\n",
    "\n",
    "search_results = search_response.json()\n",
    "\n",
    "# Check if the response contains an 'object' key\n",
    "if 'object' in search_results:\n",
    "    if search_results['object'] == 'list':\n",
    "        # Handle the case where the token is valid but no pages are connected\n",
    "        if not search_results['results']:\n",
    "            print(\"No pages are connected to the integration.\")\n",
    "        else:\n",
    "            # Handle the regular output\n",
    "            print(json.dumps(search_results,indent=2))\n",
    "    elif search_results['object'] == 'error':\n",
    "        # Handle the case where the token is invalid\n",
    "        if search_results.get('status') == 401 and search_results.get('code') == 'unauthorized':\n",
    "            print(\"Error:\", search_results['message'])\n",
    "else:\n",
    "    print(\"Unexpected response:\", search_results)\n"
   ]
  },
  {
   "cell_type": "code",
   "execution_count": null,
   "id": "f266f993",
   "metadata": {},
   "outputs": [],
   "source": [
    "search_results = search_response.json()[\"results\"]\n",
    "page_id = search_results[0][\"id\"]\n"
   ]
  },
  {
   "cell_type": "code",
   "execution_count": null,
   "id": "762bc930",
   "metadata": {},
   "outputs": [],
   "source": [
    "for result in search_results:\n",
    "    print(result)\n",
    "    print('*******')"
   ]
  },
  {
   "cell_type": "code",
   "execution_count": null,
   "id": "06fee955",
   "metadata": {},
   "outputs": [],
   "source": [
    "for page in search_results:\n",
    "    # Check if the page has a title\n",
    "    if 'title' in page['properties']:\n",
    "#     if page['properties']['title']['title']:\n",
    "        title = page['properties']['title']['title'][0]['plain_text']\n",
    "        page_id = page['id']\n",
    "        url = page['url']\n",
    "        \n",
    "        print(f\"Page ID: {page_id}\")\n",
    "        print(f\"Title: {title}\")\n",
    "        print(f\"URL: {url}\")\n",
    "        print(\"*******\")\n",
    "        \n",
    "        # try accessing page content:\n",
    "        blocks_response = requests.get(\n",
    "                f\"https://api.notion.com/v1/blocks/{page_id}/children\", \n",
    "                headers=headers)\n",
    "        blocks_data = blocks_response.json()\n",
    "\n",
    "        # Extracting content from blocks\n",
    "        for block in blocks_data['results']:\n",
    "            if block['type'] == 'paragraph' and block['paragraph']['rich_text']:\n",
    "                content = block['paragraph']['rich_text'][0]['plain_text']\n",
    "                print(content)\n",
    "        print(\"-------\")\n",
    "\n"
   ]
  },
  {
   "cell_type": "code",
   "execution_count": null,
   "id": "af5e9213",
   "metadata": {},
   "outputs": [],
   "source": []
  }
 ],
 "metadata": {
  "kernelspec": {
   "display_name": "Python 3",
   "language": "python",
   "name": "python3"
  },
  "language_info": {
   "codemirror_mode": {
    "name": "ipython",
    "version": 3
   },
   "file_extension": ".py",
   "mimetype": "text/x-python",
   "name": "python",
   "nbconvert_exporter": "python",
   "pygments_lexer": "ipython3",
   "version": "3.8.3"
  }
 },
 "nbformat": 4,
 "nbformat_minor": 5
}
